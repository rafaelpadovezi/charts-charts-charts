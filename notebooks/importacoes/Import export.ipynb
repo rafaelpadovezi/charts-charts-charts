{
 "cells": [
  {
   "cell_type": "code",
   "execution_count": 2,
   "metadata": {},
   "outputs": [],
   "source": [
    "import pandas as pd\n",
    "import numpy as np\n",
    "import matplotlib\n",
    "import matplotlib.pyplot as plt"
   ]
  },
  {
   "cell_type": "code",
   "execution_count": 6,
   "metadata": {},
   "outputs": [],
   "source": [
    "df = pd.read_excel('./CGCE.xlsx', skiprows=7)"
   ]
  },
  {
   "cell_type": "code",
   "execution_count": 11,
   "metadata": {},
   "outputs": [],
   "source": [
    "df = df.transpose()"
   ]
  },
  {
   "cell_type": "code",
   "execution_count": 15,
   "metadata": {},
   "outputs": [
    {
     "data": {
      "text/plain": [
       "0                              BENS INTERMEDIÁRIOS (BI)\n",
       "1                        Insumos industriais elaborados\n",
       "2                           Insumos industriais básicos\n",
       "3     Alimentos e bebidas básicos, destinados princi...\n",
       "4                 Peças para equipamentos de transporte\n",
       "5     Alimentos e bebidas elaborados, destinados pri...\n",
       "6               Peças e acessórios para bens de capital\n",
       "7                                  BENS DE CONSUMO (BC)\n",
       "8           Bens de consumo semiduráveis e não duráveis\n",
       "9                              Bens de consumo duráveis\n",
       "10                         COMBUSTÍVEIS E LUBRIFICANTES\n",
       "11                 Combustíveis e lubrificantes básicos\n",
       "12              Combustíveis e lubrificantes elaborados\n",
       "13                                 BENS DE CAPITAL (BK)\n",
       "14    Bens de capital, exceto equipamentos de transp...\n",
       "15                Equipamentos de transporte industrial\n",
       "16                 BENS NÃO ESPECIFICADOS ANTERIORMENTE\n",
       "17                 Bens não especificados anteriormente\n",
       "18                                          Total Geral\n",
       "Name: Unnamed: 0, dtype: object"
      ]
     },
     "execution_count": 15,
     "metadata": {},
     "output_type": "execute_result"
    }
   ],
   "source": [
    "df.iloc[0, :]"
   ]
  },
  {
   "cell_type": "code",
   "execution_count": null,
   "metadata": {},
   "outputs": [],
   "source": [
    "df.columns = ['year', 'BI', 'insumosEleborados', 'insumosBasicos', 'AlimentosBasicos', 'PecasTransporte', 'AlimentosElaborados',\n",
    "             'PecasBensDeCapital', 'BC', 'BensNaoDuraveis', 'BenDuraveis', 'CombustiveisBasicos', 'CombustiveisElaborados']"
   ]
  }
 ],
 "metadata": {
  "kernelspec": {
   "display_name": "Python 3",
   "language": "python",
   "name": "python3"
  },
  "language_info": {
   "codemirror_mode": {
    "name": "ipython",
    "version": 3
   },
   "file_extension": ".py",
   "mimetype": "text/x-python",
   "name": "python",
   "nbconvert_exporter": "python",
   "pygments_lexer": "ipython3",
   "version": "3.6.4"
  }
 },
 "nbformat": 4,
 "nbformat_minor": 2
}
